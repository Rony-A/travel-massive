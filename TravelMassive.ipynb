{
 "cells": [
  {
   "cell_type": "markdown",
   "metadata": {},
   "source": [
    "# Connecting to Data Base"
   ]
  },
  {
   "cell_type": "code",
   "execution_count": 5,
   "metadata": {},
   "outputs": [],
   "source": [
    "import pandas as pd\n",
    "import pymysql\n",
    "import pickle\n",
    "import networkx as nx\n",
    "import matplotlib.pyplot as plt\n",
    "import numpy as np\n",
    "import warnings\n",
    "warnings.filterwarnings(\"ignore\")\n",
    "\n",
    "with open('./../../../password_for_travelmassive_database.p', 'rb') as file:\n",
    "    password = pickle.load(file)"
   ]
  },
  {
   "cell_type": "code",
   "execution_count": 7,
   "metadata": {},
   "outputs": [],
   "source": [
    "conn = pymysql.connect(\"localhost\",\"root\",password,\"travelmassive\" )"
   ]
  },
  {
   "cell_type": "code",
   "execution_count": 8,
   "metadata": {
    "collapsed": true
   },
   "outputs": [],
   "source": [
    "tables = ['flagging']"
   ]
  },
  {
   "cell_type": "code",
   "execution_count": 18,
   "metadata": {
    "collapsed": true
   },
   "outputs": [],
   "source": [
    "def load_table(table, connection = conn):\n",
    "    query = 'SELECT * FROM ' + table\n",
    "    table = pd.read_sql(sql=query, con=connection)\n",
    "    return table\n",
    "\n",
    "def ram_rambo(tables, connection):\n",
    "    \"loads all the tables from the list 'tables' into a dictionary\"\n",
    "    database_as_dict = {}\n",
    "    for table in tables:\n",
    "        database_as_dict[table] = load_table(table, connection = connection)\n",
    "    return database_as_dict"
   ]
  },
  {
   "cell_type": "code",
   "execution_count": 10,
   "metadata": {
    "collapsed": true
   },
   "outputs": [],
   "source": [
    "df = pd.read_sql('SELECT * FROM flagging', con=conn)"
   ]
  },
  {
   "cell_type": "code",
   "execution_count": 11,
   "metadata": {},
   "outputs": [
    {
     "data": {
      "text/html": [
       "<div>\n",
       "<style>\n",
       "    .dataframe thead tr:only-child th {\n",
       "        text-align: right;\n",
       "    }\n",
       "\n",
       "    .dataframe thead th {\n",
       "        text-align: left;\n",
       "    }\n",
       "\n",
       "    .dataframe tbody tr th {\n",
       "        vertical-align: top;\n",
       "    }\n",
       "</style>\n",
       "<table border=\"1\" class=\"dataframe\">\n",
       "  <thead>\n",
       "    <tr style=\"text-align: right;\">\n",
       "      <th></th>\n",
       "      <th>flagging_id</th>\n",
       "      <th>fid</th>\n",
       "      <th>entity_type</th>\n",
       "      <th>entity_id</th>\n",
       "      <th>uid</th>\n",
       "      <th>sid</th>\n",
       "      <th>timestamp</th>\n",
       "    </tr>\n",
       "  </thead>\n",
       "  <tbody>\n",
       "    <tr>\n",
       "      <th>0</th>\n",
       "      <td>13422</td>\n",
       "      <td>1</td>\n",
       "      <td>user</td>\n",
       "      <td>10439</td>\n",
       "      <td>10438</td>\n",
       "      <td>0</td>\n",
       "      <td>1419956180</td>\n",
       "    </tr>\n",
       "    <tr>\n",
       "      <th>1</th>\n",
       "      <td>13423</td>\n",
       "      <td>1</td>\n",
       "      <td>user</td>\n",
       "      <td>10437</td>\n",
       "      <td>10438</td>\n",
       "      <td>0</td>\n",
       "      <td>1419956184</td>\n",
       "    </tr>\n",
       "    <tr>\n",
       "      <th>2</th>\n",
       "      <td>13425</td>\n",
       "      <td>3</td>\n",
       "      <td>node</td>\n",
       "      <td>12881</td>\n",
       "      <td>10438</td>\n",
       "      <td>0</td>\n",
       "      <td>1419956778</td>\n",
       "    </tr>\n",
       "    <tr>\n",
       "      <th>3</th>\n",
       "      <td>13426</td>\n",
       "      <td>1</td>\n",
       "      <td>user</td>\n",
       "      <td>10440</td>\n",
       "      <td>10438</td>\n",
       "      <td>0</td>\n",
       "      <td>1419957896</td>\n",
       "    </tr>\n",
       "    <tr>\n",
       "      <th>4</th>\n",
       "      <td>13429</td>\n",
       "      <td>3</td>\n",
       "      <td>node</td>\n",
       "      <td>12875</td>\n",
       "      <td>10440</td>\n",
       "      <td>0</td>\n",
       "      <td>1419960732</td>\n",
       "    </tr>\n",
       "  </tbody>\n",
       "</table>\n",
       "</div>"
      ],
      "text/plain": [
       "   flagging_id  fid entity_type  entity_id    uid  sid   timestamp\n",
       "0        13422    1        user      10439  10438    0  1419956180\n",
       "1        13423    1        user      10437  10438    0  1419956184\n",
       "2        13425    3        node      12881  10438    0  1419956778\n",
       "3        13426    1        user      10440  10438    0  1419957896\n",
       "4        13429    3        node      12875  10440    0  1419960732"
      ]
     },
     "execution_count": 11,
     "metadata": {},
     "output_type": "execute_result"
    }
   ],
   "source": [
    "df.head()"
   ]
  },
  {
   "cell_type": "code",
   "execution_count": 12,
   "metadata": {},
   "outputs": [
    {
     "data": {
      "text/plain": [
       "(254261, 7)"
      ]
     },
     "execution_count": 12,
     "metadata": {},
     "output_type": "execute_result"
    }
   ],
   "source": [
    "df.shape"
   ]
  },
  {
   "cell_type": "markdown",
   "metadata": {},
   "source": [
    "To start with, we care about the connections between users. So, consider only the rows with\n",
    "        \n",
    "    fid == 1"
   ]
  },
  {
   "cell_type": "code",
   "execution_count": 13,
   "metadata": {},
   "outputs": [
    {
     "data": {
      "text/plain": [
       "(74238, 7)"
      ]
     },
     "execution_count": 13,
     "metadata": {},
     "output_type": "execute_result"
    }
   ],
   "source": [
    "df_users = df[df['fid'] == 1]\n",
    "df_users.shape # the 74238 rows are more managable than 250k+"
   ]
  },
  {
   "cell_type": "code",
   "execution_count": 14,
   "metadata": {},
   "outputs": [
    {
     "data": {
      "image/png": "[encoded data removed]",
      "text/plain": [
       "<matplotlib.figure.Figure at 0x11544a7b8>"
      ]
     },
     "metadata": {},
     "output_type": "display_data"
    }
   ],
   "source": [
    "df_users['entity_id'].value_counts().head(60).plot(kind = 'bar', figsize = (20,4), \n",
    "                                                   title='Users with the most followers')\n",
    "plt.show()"
   ]
  },
  {
   "cell_type": "code",
   "execution_count": 15,
   "metadata": {},
   "outputs": [
    {
     "data": {
      "text/html": [
       "<div>\n",
       "<style>\n",
       "    .dataframe thead tr:only-child th {\n",
       "        text-align: right;\n",
       "    }\n",
       "\n",
       "    .dataframe thead th {\n",
       "        text-align: left;\n",
       "    }\n",
       "\n",
       "    .dataframe tbody tr th {\n",
       "        vertical-align: top;\n",
       "    }\n",
       "</style>\n",
       "<table border=\"1\" class=\"dataframe\">\n",
       "  <thead>\n",
       "    <tr style=\"text-align: right;\">\n",
       "      <th></th>\n",
       "      <th>flagging_id</th>\n",
       "      <th>fid</th>\n",
       "      <th>entity_type</th>\n",
       "      <th>entity_id</th>\n",
       "      <th>uid</th>\n",
       "      <th>sid</th>\n",
       "      <th>timestamp</th>\n",
       "    </tr>\n",
       "  </thead>\n",
       "  <tbody>\n",
       "    <tr>\n",
       "      <th>0</th>\n",
       "      <td>13422</td>\n",
       "      <td>1</td>\n",
       "      <td>user</td>\n",
       "      <td>10439</td>\n",
       "      <td>10438</td>\n",
       "      <td>0</td>\n",
       "      <td>1419956180</td>\n",
       "    </tr>\n",
       "    <tr>\n",
       "      <th>1</th>\n",
       "      <td>13423</td>\n",
       "      <td>1</td>\n",
       "      <td>user</td>\n",
       "      <td>10437</td>\n",
       "      <td>10438</td>\n",
       "      <td>0</td>\n",
       "      <td>1419956184</td>\n",
       "    </tr>\n",
       "    <tr>\n",
       "      <th>3</th>\n",
       "      <td>13426</td>\n",
       "      <td>1</td>\n",
       "      <td>user</td>\n",
       "      <td>10440</td>\n",
       "      <td>10438</td>\n",
       "      <td>0</td>\n",
       "      <td>1419957896</td>\n",
       "    </tr>\n",
       "    <tr>\n",
       "      <th>6</th>\n",
       "      <td>13431</td>\n",
       "      <td>1</td>\n",
       "      <td>user</td>\n",
       "      <td>10438</td>\n",
       "      <td>10442</td>\n",
       "      <td>0</td>\n",
       "      <td>1419962339</td>\n",
       "    </tr>\n",
       "    <tr>\n",
       "      <th>7</th>\n",
       "      <td>13432</td>\n",
       "      <td>1</td>\n",
       "      <td>user</td>\n",
       "      <td>10442</td>\n",
       "      <td>10438</td>\n",
       "      <td>0</td>\n",
       "      <td>1419962382</td>\n",
       "    </tr>\n",
       "  </tbody>\n",
       "</table>\n",
       "</div>"
      ],
      "text/plain": [
       "   flagging_id  fid entity_type  entity_id    uid  sid   timestamp\n",
       "0        13422    1        user      10439  10438    0  1419956180\n",
       "1        13423    1        user      10437  10438    0  1419956184\n",
       "3        13426    1        user      10440  10438    0  1419957896\n",
       "6        13431    1        user      10438  10442    0  1419962339\n",
       "7        13432    1        user      10442  10438    0  1419962382"
      ]
     },
     "execution_count": 15,
     "metadata": {},
     "output_type": "execute_result"
    }
   ],
   "source": [
    "df_users.head()"
   ]
  },
  {
   "cell_type": "code",
   "execution_count": 16,
   "metadata": {},
   "outputs": [
    {
     "data": {
      "text/plain": [
       "0"
      ]
     },
     "execution_count": 16,
     "metadata": {},
     "output_type": "execute_result"
    }
   ],
   "source": [
    "(df_users['timestamp'] - df_users['timestamp'].sort_values()).sum()"
   ]
  },
  {
   "cell_type": "code",
   "execution_count": 17,
   "metadata": {
    "collapsed": true
   },
   "outputs": [],
   "source": [
    "def show_first_n_connections(n = 50, show = False, axis = None, labels = False):\n",
    "    np.random.seed = 42\n",
    "    if show: fig = plt.figure(figsize = (20,10))\n",
    "    conns = nx.DiGraph(data = list((df_users[['entity_id','uid']].head(n).values)))\n",
    "    nx.draw(conns, pos=nx.spring_layout(conns), ax=axis, with_labels=labels)\n",
    "    if show: fig.title = 'First {} connections'.format(n)\n",
    "    if show: plt.show()"
   ]
  },
  {
   "cell_type": "code",
   "execution_count": 126,
   "metadata": {},
   "outputs": [
    {
     "name": "stdout",
     "output_type": "stream",
     "text": [
      "The thick section starts from the uid in the connection and points to the entity_id\n"
     ]
    },
    {
     "data": {
      "image/png": "[encoded data removed]",
      "text/plain": [
       "<matplotlib.figure.Figure at 0x112734dd8>"
      ]
     },
     "metadata": {},
     "output_type": "display_data"
    }
   ],
   "source": [
    "a, b  = 3,3\n",
    "fig, axes = plt.subplots(ncols= a,nrows= b)\n",
    "fig.set_size_inches(20,10)\n",
    "print('The thick section starts from the uid in the connection and points to the entity_id')\n",
    "for i, size in enumerate(range(2,91,10)):\n",
    "    show_first_n_connections(n=size, axis=axes[i//b,i%b], labels = False)\n",
    "    axes[i//b,i%b].set_title('First {} connections'.format(size))\n",
    "plt.show()\n"
   ]
  },
  {
   "cell_type": "markdown",
   "metadata": {},
   "source": [
    "# Looking at Tables of Interest"
   ]
  },
  {
   "cell_type": "code",
   "execution_count": 25,
   "metadata": {},
   "outputs": [
    {
     "data": {
      "text/html": [
       "<div>\n",
       "<style>\n",
       "    .dataframe thead tr:only-child th {\n",
       "        text-align: right;\n",
       "    }\n",
       "\n",
       "    .dataframe thead th {\n",
       "        text-align: left;\n",
       "    }\n",
       "\n",
       "    .dataframe tbody tr th {\n",
       "        vertical-align: top;\n",
       "    }\n",
       "</style>\n",
       "<table border=\"1\" class=\"dataframe\">\n",
       "  <thead>\n",
       "    <tr style=\"text-align: right;\">\n",
       "      <th></th>\n",
       "      <th>entity_type</th>\n",
       "      <th>bundle</th>\n",
       "      <th>deleted</th>\n",
       "      <th>entity_id</th>\n",
       "      <th>revision_id</th>\n",
       "      <th>language</th>\n",
       "      <th>delta</th>\n",
       "      <th>field_user_first_name_value</th>\n",
       "      <th>field_user_first_name_format</th>\n",
       "    </tr>\n",
       "  </thead>\n",
       "  <tbody>\n",
       "    <tr>\n",
       "      <th>0</th>\n",
       "      <td>user</td>\n",
       "      <td>user</td>\n",
       "      <td>0</td>\n",
       "      <td>1</td>\n",
       "      <td>1</td>\n",
       "      <td>und</td>\n",
       "      <td>0</td>\n",
       "      <td>Travel</td>\n",
       "      <td>None</td>\n",
       "    </tr>\n",
       "    <tr>\n",
       "      <th>1</th>\n",
       "      <td>user</td>\n",
       "      <td>user</td>\n",
       "      <td>0</td>\n",
       "      <td>10437</td>\n",
       "      <td>10437</td>\n",
       "      <td>und</td>\n",
       "      <td>0</td>\n",
       "      <td>Katy</td>\n",
       "      <td>None</td>\n",
       "    </tr>\n",
       "    <tr>\n",
       "      <th>2</th>\n",
       "      <td>user</td>\n",
       "      <td>user</td>\n",
       "      <td>0</td>\n",
       "      <td>10438</td>\n",
       "      <td>10438</td>\n",
       "      <td>und</td>\n",
       "      <td>0</td>\n",
       "      <td>Ian</td>\n",
       "      <td>None</td>\n",
       "    </tr>\n",
       "    <tr>\n",
       "      <th>3</th>\n",
       "      <td>user</td>\n",
       "      <td>user</td>\n",
       "      <td>0</td>\n",
       "      <td>10439</td>\n",
       "      <td>10439</td>\n",
       "      <td>und</td>\n",
       "      <td>0</td>\n",
       "      <td>Mo</td>\n",
       "      <td>None</td>\n",
       "    </tr>\n",
       "    <tr>\n",
       "      <th>4</th>\n",
       "      <td>user</td>\n",
       "      <td>user</td>\n",
       "      <td>0</td>\n",
       "      <td>10440</td>\n",
       "      <td>10440</td>\n",
       "      <td>und</td>\n",
       "      <td>0</td>\n",
       "      <td>Erika</td>\n",
       "      <td>None</td>\n",
       "    </tr>\n",
       "  </tbody>\n",
       "</table>\n",
       "</div>"
      ],
      "text/plain": [
       "  entity_type bundle  deleted  entity_id  revision_id language  delta  \\\n",
       "0        user   user        0          1            1      und      0   \n",
       "1        user   user        0      10437        10437      und      0   \n",
       "2        user   user        0      10438        10438      und      0   \n",
       "3        user   user        0      10439        10439      und      0   \n",
       "4        user   user        0      10440        10440      und      0   \n",
       "\n",
       "  field_user_first_name_value field_user_first_name_format  \n",
       "0                      Travel                         None  \n",
       "1                        Katy                         None  \n",
       "2                         Ian                         None  \n",
       "3                          Mo                         None  \n",
       "4                       Erika                         None  "
      ]
     },
     "execution_count": 25,
     "metadata": {},
     "output_type": "execute_result"
    }
   ],
   "source": [
    "load_table('field_revision_field_user_first_name').head()"
   ]
  },
  {
   "cell_type": "code",
   "execution_count": 21,
   "metadata": {},
   "outputs": [
    {
     "data": {
      "text/html": [
       "<div>\n",
       "<style>\n",
       "    .dataframe thead tr:only-child th {\n",
       "        text-align: right;\n",
       "    }\n",
       "\n",
       "    .dataframe thead th {\n",
       "        text-align: left;\n",
       "    }\n",
       "\n",
       "    .dataframe tbody tr th {\n",
       "        vertical-align: top;\n",
       "    }\n",
       "</style>\n",
       "<table border=\"1\" class=\"dataframe\">\n",
       "  <thead>\n",
       "    <tr style=\"text-align: right;\">\n",
       "      <th></th>\n",
       "      <th>entity_type</th>\n",
       "      <th>bundle</th>\n",
       "      <th>deleted</th>\n",
       "      <th>entity_id</th>\n",
       "      <th>revision_id</th>\n",
       "      <th>language</th>\n",
       "      <th>delta</th>\n",
       "      <th>field_country_iso2</th>\n",
       "    </tr>\n",
       "  </thead>\n",
       "  <tbody>\n",
       "    <tr>\n",
       "      <th>0</th>\n",
       "      <td>node</td>\n",
       "      <td>chapter</td>\n",
       "      <td>0</td>\n",
       "      <td>12832</td>\n",
       "      <td>12832</td>\n",
       "      <td>und</td>\n",
       "      <td>0</td>\n",
       "      <td>GR</td>\n",
       "    </tr>\n",
       "    <tr>\n",
       "      <th>1</th>\n",
       "      <td>node</td>\n",
       "      <td>chapter</td>\n",
       "      <td>0</td>\n",
       "      <td>12833</td>\n",
       "      <td>12833</td>\n",
       "      <td>und</td>\n",
       "      <td>0</td>\n",
       "      <td>US</td>\n",
       "    </tr>\n",
       "    <tr>\n",
       "      <th>2</th>\n",
       "      <td>node</td>\n",
       "      <td>chapter</td>\n",
       "      <td>0</td>\n",
       "      <td>12834</td>\n",
       "      <td>12834</td>\n",
       "      <td>und</td>\n",
       "      <td>0</td>\n",
       "      <td>US</td>\n",
       "    </tr>\n",
       "    <tr>\n",
       "      <th>3</th>\n",
       "      <td>node</td>\n",
       "      <td>chapter</td>\n",
       "      <td>0</td>\n",
       "      <td>12835</td>\n",
       "      <td>12835</td>\n",
       "      <td>und</td>\n",
       "      <td>0</td>\n",
       "      <td>TH</td>\n",
       "    </tr>\n",
       "    <tr>\n",
       "      <th>4</th>\n",
       "      <td>node</td>\n",
       "      <td>chapter</td>\n",
       "      <td>0</td>\n",
       "      <td>12836</td>\n",
       "      <td>12836</td>\n",
       "      <td>und</td>\n",
       "      <td>0</td>\n",
       "      <td>DE</td>\n",
       "    </tr>\n",
       "  </tbody>\n",
       "</table>\n",
       "</div>"
      ],
      "text/plain": [
       "  entity_type   bundle  deleted  entity_id  revision_id language  delta  \\\n",
       "0        node  chapter        0      12832        12832      und      0   \n",
       "1        node  chapter        0      12833        12833      und      0   \n",
       "2        node  chapter        0      12834        12834      und      0   \n",
       "3        node  chapter        0      12835        12835      und      0   \n",
       "4        node  chapter        0      12836        12836      und      0   \n",
       "\n",
       "  field_country_iso2  \n",
       "0                 GR  \n",
       "1                 US  \n",
       "2                 US  \n",
       "3                 TH  \n",
       "4                 DE  "
      ]
     },
     "execution_count": 21,
     "metadata": {},
     "output_type": "execute_result"
    }
   ],
   "source": [
    "load_table('field_data_field_country').head()"
   ]
  },
  {
   "cell_type": "code",
   "execution_count": 22,
   "metadata": {},
   "outputs": [
    {
     "data": {
      "text/html": [
       "<div>\n",
       "<style>\n",
       "    .dataframe thead tr:only-child th {\n",
       "        text-align: right;\n",
       "    }\n",
       "\n",
       "    .dataframe thead th {\n",
       "        text-align: left;\n",
       "    }\n",
       "\n",
       "    .dataframe tbody tr th {\n",
       "        vertical-align: top;\n",
       "    }\n",
       "</style>\n",
       "<table border=\"1\" class=\"dataframe\">\n",
       "  <thead>\n",
       "    <tr style=\"text-align: right;\">\n",
       "      <th></th>\n",
       "      <th>entity_type</th>\n",
       "      <th>bundle</th>\n",
       "      <th>deleted</th>\n",
       "      <th>entity_id</th>\n",
       "      <th>revision_id</th>\n",
       "      <th>language</th>\n",
       "      <th>delta</th>\n",
       "      <th>field_geomaplocation_geom</th>\n",
       "      <th>field_geomaplocation_geo_type</th>\n",
       "      <th>field_geomaplocation_lat</th>\n",
       "      <th>field_geomaplocation_lon</th>\n",
       "      <th>field_geomaplocation_left</th>\n",
       "      <th>field_geomaplocation_top</th>\n",
       "      <th>field_geomaplocation_right</th>\n",
       "      <th>field_geomaplocation_bottom</th>\n",
       "      <th>field_geomaplocation_geohash</th>\n",
       "    </tr>\n",
       "  </thead>\n",
       "  <tbody>\n",
       "    <tr>\n",
       "      <th>0</th>\n",
       "      <td>node</td>\n",
       "      <td>chapter</td>\n",
       "      <td>0</td>\n",
       "      <td>12832</td>\n",
       "      <td>12832</td>\n",
       "      <td>und</td>\n",
       "      <td>0</td>\n",
       "      <td>b'\\x01\\x01\\x00\\x00\\x00\\x0f\\x0b\\xb5\\xa6y\\xb77@\\...</td>\n",
       "      <td>point</td>\n",
       "      <td>37.9667</td>\n",
       "      <td>23.7167</td>\n",
       "      <td>23.7167</td>\n",
       "      <td>37.9667</td>\n",
       "      <td>23.7167</td>\n",
       "      <td>37.9667</td>\n",
       "      <td>sw8zgxtup</td>\n",
       "    </tr>\n",
       "    <tr>\n",
       "      <th>1</th>\n",
       "      <td>node</td>\n",
       "      <td>chapter</td>\n",
       "      <td>0</td>\n",
       "      <td>12833</td>\n",
       "      <td>12833</td>\n",
       "      <td>und</td>\n",
       "      <td>0</td>\n",
       "      <td>b'\\x01\\x01\\x00\\x00\\x00)\\\\\\x8f\\xc2\\xf5\\x18U\\xc0...</td>\n",
       "      <td>point</td>\n",
       "      <td>33.7550</td>\n",
       "      <td>-84.3900</td>\n",
       "      <td>-84.3900</td>\n",
       "      <td>33.7550</td>\n",
       "      <td>-84.3900</td>\n",
       "      <td>33.7550</td>\n",
       "      <td>dn5bp8vj</td>\n",
       "    </tr>\n",
       "    <tr>\n",
       "      <th>2</th>\n",
       "      <td>node</td>\n",
       "      <td>chapter</td>\n",
       "      <td>0</td>\n",
       "      <td>12834</td>\n",
       "      <td>12834</td>\n",
       "      <td>und</td>\n",
       "      <td>0</td>\n",
       "      <td>b'\\x01\\x01\\x00\\x00\\x00\\x00\\x00\\x00\\x00\\x00pX\\x...</td>\n",
       "      <td>point</td>\n",
       "      <td>30.2500</td>\n",
       "      <td>-97.7500</td>\n",
       "      <td>-97.7500</td>\n",
       "      <td>30.2500</td>\n",
       "      <td>-97.7500</td>\n",
       "      <td>30.2500</td>\n",
       "      <td>9v6kpd</td>\n",
       "    </tr>\n",
       "    <tr>\n",
       "      <th>3</th>\n",
       "      <td>node</td>\n",
       "      <td>chapter</td>\n",
       "      <td>0</td>\n",
       "      <td>12835</td>\n",
       "      <td>12835</td>\n",
       "      <td>und</td>\n",
       "      <td>0</td>\n",
       "      <td>b'\\x01\\x01\\x00\\x00\\x00\\xc4B\\xadi\\xde\\x1dY@\\x00...</td>\n",
       "      <td>point</td>\n",
       "      <td>13.7500</td>\n",
       "      <td>100.4667</td>\n",
       "      <td>100.4667</td>\n",
       "      <td>13.7500</td>\n",
       "      <td>100.4667</td>\n",
       "      <td>13.7500</td>\n",
       "      <td>w4rqnpjee</td>\n",
       "    </tr>\n",
       "    <tr>\n",
       "      <th>4</th>\n",
       "      <td>node</td>\n",
       "      <td>chapter</td>\n",
       "      <td>0</td>\n",
       "      <td>12836</td>\n",
       "      <td>12836</td>\n",
       "      <td>und</td>\n",
       "      <td>0</td>\n",
       "      <td>b'\\x01\\x01\\x00\\x00\\x00\\x15\\x1d\\xc9\\xe5?\\xc4*@\\...</td>\n",
       "      <td>point</td>\n",
       "      <td>52.5167</td>\n",
       "      <td>13.3833</td>\n",
       "      <td>13.3833</td>\n",
       "      <td>52.5167</td>\n",
       "      <td>13.3833</td>\n",
       "      <td>52.5167</td>\n",
       "      <td>u33db837v</td>\n",
       "    </tr>\n",
       "  </tbody>\n",
       "</table>\n",
       "</div>"
      ],
      "text/plain": [
       "  entity_type   bundle  deleted  entity_id  revision_id language  delta  \\\n",
       "0        node  chapter        0      12832        12832      und      0   \n",
       "1        node  chapter        0      12833        12833      und      0   \n",
       "2        node  chapter        0      12834        12834      und      0   \n",
       "3        node  chapter        0      12835        12835      und      0   \n",
       "4        node  chapter        0      12836        12836      und      0   \n",
       "\n",
       "                           field_geomaplocation_geom  \\\n",
       "0  b'\\x01\\x01\\x00\\x00\\x00\\x0f\\x0b\\xb5\\xa6y\\xb77@\\...   \n",
       "1  b'\\x01\\x01\\x00\\x00\\x00)\\\\\\x8f\\xc2\\xf5\\x18U\\xc0...   \n",
       "2  b'\\x01\\x01\\x00\\x00\\x00\\x00\\x00\\x00\\x00\\x00pX\\x...   \n",
       "3  b'\\x01\\x01\\x00\\x00\\x00\\xc4B\\xadi\\xde\\x1dY@\\x00...   \n",
       "4  b'\\x01\\x01\\x00\\x00\\x00\\x15\\x1d\\xc9\\xe5?\\xc4*@\\...   \n",
       "\n",
       "  field_geomaplocation_geo_type  field_geomaplocation_lat  \\\n",
       "0                         point                   37.9667   \n",
       "1                         point                   33.7550   \n",
       "2                         point                   30.2500   \n",
       "3                         point                   13.7500   \n",
       "4                         point                   52.5167   \n",
       "\n",
       "   field_geomaplocation_lon  field_geomaplocation_left  \\\n",
       "0                   23.7167                    23.7167   \n",
       "1                  -84.3900                   -84.3900   \n",
       "2                  -97.7500                   -97.7500   \n",
       "3                  100.4667                   100.4667   \n",
       "4                   13.3833                    13.3833   \n",
       "\n",
       "   field_geomaplocation_top  field_geomaplocation_right  \\\n",
       "0                   37.9667                     23.7167   \n",
       "1                   33.7550                    -84.3900   \n",
       "2                   30.2500                    -97.7500   \n",
       "3                   13.7500                    100.4667   \n",
       "4                   52.5167                     13.3833   \n",
       "\n",
       "   field_geomaplocation_bottom field_geomaplocation_geohash  \n",
       "0                      37.9667                    sw8zgxtup  \n",
       "1                      33.7550                     dn5bp8vj  \n",
       "2                      30.2500                       9v6kpd  \n",
       "3                      13.7500                    w4rqnpjee  \n",
       "4                      52.5167                    u33db837v  "
      ]
     },
     "execution_count": 22,
     "metadata": {},
     "output_type": "execute_result"
    }
   ],
   "source": [
    "load_table('field_data_field_geomaplocation').head()"
   ]
  },
  {
   "cell_type": "code",
   "execution_count": 23,
   "metadata": {},
   "outputs": [
    {
     "data": {
      "text/html": [
       "<div>\n",
       "<style>\n",
       "    .dataframe thead tr:only-child th {\n",
       "        text-align: right;\n",
       "    }\n",
       "\n",
       "    .dataframe thead th {\n",
       "        text-align: left;\n",
       "    }\n",
       "\n",
       "    .dataframe tbody tr th {\n",
       "        vertical-align: top;\n",
       "    }\n",
       "</style>\n",
       "<table border=\"1\" class=\"dataframe\">\n",
       "  <thead>\n",
       "    <tr style=\"text-align: right;\">\n",
       "      <th></th>\n",
       "      <th>entity_type</th>\n",
       "      <th>bundle</th>\n",
       "      <th>deleted</th>\n",
       "      <th>entity_id</th>\n",
       "      <th>revision_id</th>\n",
       "      <th>language</th>\n",
       "      <th>delta</th>\n",
       "      <th>field_home_chapter_target_id</th>\n",
       "    </tr>\n",
       "  </thead>\n",
       "  <tbody>\n",
       "    <tr>\n",
       "      <th>0</th>\n",
       "      <td>user</td>\n",
       "      <td>user</td>\n",
       "      <td>0</td>\n",
       "      <td>10437</td>\n",
       "      <td>10437</td>\n",
       "      <td>und</td>\n",
       "      <td>0</td>\n",
       "      <td>13949</td>\n",
       "    </tr>\n",
       "    <tr>\n",
       "      <th>1</th>\n",
       "      <td>user</td>\n",
       "      <td>user</td>\n",
       "      <td>0</td>\n",
       "      <td>10438</td>\n",
       "      <td>10438</td>\n",
       "      <td>und</td>\n",
       "      <td>0</td>\n",
       "      <td>12881</td>\n",
       "    </tr>\n",
       "    <tr>\n",
       "      <th>2</th>\n",
       "      <td>user</td>\n",
       "      <td>user</td>\n",
       "      <td>0</td>\n",
       "      <td>10440</td>\n",
       "      <td>10440</td>\n",
       "      <td>und</td>\n",
       "      <td>0</td>\n",
       "      <td>12875</td>\n",
       "    </tr>\n",
       "    <tr>\n",
       "      <th>3</th>\n",
       "      <td>user</td>\n",
       "      <td>user</td>\n",
       "      <td>0</td>\n",
       "      <td>10441</td>\n",
       "      <td>10441</td>\n",
       "      <td>und</td>\n",
       "      <td>0</td>\n",
       "      <td>12852</td>\n",
       "    </tr>\n",
       "    <tr>\n",
       "      <th>4</th>\n",
       "      <td>user</td>\n",
       "      <td>user</td>\n",
       "      <td>0</td>\n",
       "      <td>10442</td>\n",
       "      <td>10442</td>\n",
       "      <td>und</td>\n",
       "      <td>0</td>\n",
       "      <td>12853</td>\n",
       "    </tr>\n",
       "  </tbody>\n",
       "</table>\n",
       "</div>"
      ],
      "text/plain": [
       "  entity_type bundle  deleted  entity_id  revision_id language  delta  \\\n",
       "0        user   user        0      10437        10437      und      0   \n",
       "1        user   user        0      10438        10438      und      0   \n",
       "2        user   user        0      10440        10440      und      0   \n",
       "3        user   user        0      10441        10441      und      0   \n",
       "4        user   user        0      10442        10442      und      0   \n",
       "\n",
       "   field_home_chapter_target_id  \n",
       "0                         13949  \n",
       "1                         12881  \n",
       "2                         12875  \n",
       "3                         12852  \n",
       "4                         12853  "
      ]
     },
     "execution_count": 23,
     "metadata": {},
     "output_type": "execute_result"
    }
   ],
   "source": [
    "load_table('field_data_field_home_chapter').head()"
   ]
  },
  {
   "cell_type": "code",
   "execution_count": 26,
   "metadata": {},
   "outputs": [
    {
     "data": {
      "text/html": [
       "<div>\n",
       "<style>\n",
       "    .dataframe thead tr:only-child th {\n",
       "        text-align: right;\n",
       "    }\n",
       "\n",
       "    .dataframe thead th {\n",
       "        text-align: left;\n",
       "    }\n",
       "\n",
       "    .dataframe tbody tr th {\n",
       "        vertical-align: top;\n",
       "    }\n",
       "</style>\n",
       "<table border=\"1\" class=\"dataframe\">\n",
       "  <thead>\n",
       "    <tr style=\"text-align: right;\">\n",
       "      <th></th>\n",
       "      <th>entity_type</th>\n",
       "      <th>bundle</th>\n",
       "      <th>deleted</th>\n",
       "      <th>entity_id</th>\n",
       "      <th>revision_id</th>\n",
       "      <th>language</th>\n",
       "      <th>delta</th>\n",
       "      <th>field_location_value</th>\n",
       "      <th>field_location_format</th>\n",
       "    </tr>\n",
       "  </thead>\n",
       "  <tbody>\n",
       "    <tr>\n",
       "      <th>0</th>\n",
       "      <td>node</td>\n",
       "      <td>event</td>\n",
       "      <td>0</td>\n",
       "      <td>10415</td>\n",
       "      <td>10415</td>\n",
       "      <td>und</td>\n",
       "      <td>0</td>\n",
       "      <td>The Spence, 75 5th St NW , Atlanta, Georgia 30308</td>\n",
       "      <td>plain_text</td>\n",
       "    </tr>\n",
       "    <tr>\n",
       "      <th>1</th>\n",
       "      <td>node</td>\n",
       "      <td>event</td>\n",
       "      <td>0</td>\n",
       "      <td>13566</td>\n",
       "      <td>13569</td>\n",
       "      <td>und</td>\n",
       "      <td>0</td>\n",
       "      <td></td>\n",
       "      <td>None</td>\n",
       "    </tr>\n",
       "    <tr>\n",
       "      <th>2</th>\n",
       "      <td>node</td>\n",
       "      <td>event</td>\n",
       "      <td>0</td>\n",
       "      <td>13567</td>\n",
       "      <td>13570</td>\n",
       "      <td>und</td>\n",
       "      <td>0</td>\n",
       "      <td></td>\n",
       "      <td>None</td>\n",
       "    </tr>\n",
       "    <tr>\n",
       "      <th>3</th>\n",
       "      <td>node</td>\n",
       "      <td>event</td>\n",
       "      <td>0</td>\n",
       "      <td>13568</td>\n",
       "      <td>13571</td>\n",
       "      <td>und</td>\n",
       "      <td>0</td>\n",
       "      <td></td>\n",
       "      <td>None</td>\n",
       "    </tr>\n",
       "    <tr>\n",
       "      <th>4</th>\n",
       "      <td>node</td>\n",
       "      <td>event</td>\n",
       "      <td>0</td>\n",
       "      <td>13569</td>\n",
       "      <td>13572</td>\n",
       "      <td>und</td>\n",
       "      <td>0</td>\n",
       "      <td>\\t264 19th St NW, Atlanta, GA 30363</td>\n",
       "      <td>None</td>\n",
       "    </tr>\n",
       "  </tbody>\n",
       "</table>\n",
       "</div>"
      ],
      "text/plain": [
       "  entity_type bundle  deleted  entity_id  revision_id language  delta  \\\n",
       "0        node  event        0      10415        10415      und      0   \n",
       "1        node  event        0      13566        13569      und      0   \n",
       "2        node  event        0      13567        13570      und      0   \n",
       "3        node  event        0      13568        13571      und      0   \n",
       "4        node  event        0      13569        13572      und      0   \n",
       "\n",
       "                                field_location_value field_location_format  \n",
       "0  The Spence, 75 5th St NW , Atlanta, Georgia 30308            plain_text  \n",
       "1                                                                     None  \n",
       "2                                                                     None  \n",
       "3                                                                     None  \n",
       "4                \\t264 19th St NW, Atlanta, GA 30363                  None  "
      ]
     },
     "execution_count": 26,
     "metadata": {},
     "output_type": "execute_result"
    }
   ],
   "source": [
    "load_table('field_data_field_location').head() # Not interesting at the moment"
   ]
  },
  {
   "cell_type": "code",
   "execution_count": 27,
   "metadata": {},
   "outputs": [
    {
     "data": {
      "text/html": [
       "<div>\n",
       "<style>\n",
       "    .dataframe thead tr:only-child th {\n",
       "        text-align: right;\n",
       "    }\n",
       "\n",
       "    .dataframe thead th {\n",
       "        text-align: left;\n",
       "    }\n",
       "\n",
       "    .dataframe tbody tr th {\n",
       "        vertical-align: top;\n",
       "    }\n",
       "</style>\n",
       "<table border=\"1\" class=\"dataframe\">\n",
       "  <thead>\n",
       "    <tr style=\"text-align: right;\">\n",
       "      <th></th>\n",
       "      <th>entity_type</th>\n",
       "      <th>bundle</th>\n",
       "      <th>deleted</th>\n",
       "      <th>entity_id</th>\n",
       "      <th>revision_id</th>\n",
       "      <th>language</th>\n",
       "      <th>delta</th>\n",
       "      <th>field_user_question_2_value</th>\n",
       "      <th>field_user_question_2_format</th>\n",
       "    </tr>\n",
       "  </thead>\n",
       "  <tbody>\n",
       "    <tr>\n",
       "      <th>0</th>\n",
       "      <td>user</td>\n",
       "      <td>user</td>\n",
       "      <td>0</td>\n",
       "      <td>10437</td>\n",
       "      <td>10437</td>\n",
       "      <td>und</td>\n",
       "      <td>0</td>\n",
       "      <td>Japan</td>\n",
       "      <td>None</td>\n",
       "    </tr>\n",
       "    <tr>\n",
       "      <th>1</th>\n",
       "      <td>user</td>\n",
       "      <td>user</td>\n",
       "      <td>0</td>\n",
       "      <td>10438</td>\n",
       "      <td>10438</td>\n",
       "      <td>und</td>\n",
       "      <td>0</td>\n",
       "      <td>Africa</td>\n",
       "      <td>None</td>\n",
       "    </tr>\n",
       "    <tr>\n",
       "      <th>2</th>\n",
       "      <td>user</td>\n",
       "      <td>user</td>\n",
       "      <td>0</td>\n",
       "      <td>10440</td>\n",
       "      <td>10440</td>\n",
       "      <td>und</td>\n",
       "      <td>0</td>\n",
       "      <td>Iceland and Patagonia</td>\n",
       "      <td>None</td>\n",
       "    </tr>\n",
       "    <tr>\n",
       "      <th>3</th>\n",
       "      <td>user</td>\n",
       "      <td>user</td>\n",
       "      <td>0</td>\n",
       "      <td>10441</td>\n",
       "      <td>10441</td>\n",
       "      <td>und</td>\n",
       "      <td>0</td>\n",
       "      <td>Asia</td>\n",
       "      <td>None</td>\n",
       "    </tr>\n",
       "    <tr>\n",
       "      <th>4</th>\n",
       "      <td>user</td>\n",
       "      <td>user</td>\n",
       "      <td>0</td>\n",
       "      <td>10442</td>\n",
       "      <td>10442</td>\n",
       "      <td>und</td>\n",
       "      <td>0</td>\n",
       "      <td>Back to Africa</td>\n",
       "      <td>None</td>\n",
       "    </tr>\n",
       "  </tbody>\n",
       "</table>\n",
       "</div>"
      ],
      "text/plain": [
       "  entity_type bundle  deleted  entity_id  revision_id language  delta  \\\n",
       "0        user   user        0      10437        10437      und      0   \n",
       "1        user   user        0      10438        10438      und      0   \n",
       "2        user   user        0      10440        10440      und      0   \n",
       "3        user   user        0      10441        10441      und      0   \n",
       "4        user   user        0      10442        10442      und      0   \n",
       "\n",
       "  field_user_question_2_value field_user_question_2_format  \n",
       "0                       Japan                         None  \n",
       "1                      Africa                         None  \n",
       "2      Iceland and Patagonia                          None  \n",
       "3                        Asia                         None  \n",
       "4              Back to Africa                         None  "
      ]
     },
     "execution_count": 27,
     "metadata": {},
     "output_type": "execute_result"
    }
   ],
   "source": [
    "load_table('field_data_field_user_question_2').head()"
   ]
  },
  {
   "cell_type": "code",
   "execution_count": 30,
   "metadata": {},
   "outputs": [
    {
     "data": {
      "text/html": [
       "<div>\n",
       "<style>\n",
       "    .dataframe thead tr:only-child th {\n",
       "        text-align: right;\n",
       "    }\n",
       "\n",
       "    .dataframe thead th {\n",
       "        text-align: left;\n",
       "    }\n",
       "\n",
       "    .dataframe tbody tr th {\n",
       "        vertical-align: top;\n",
       "    }\n",
       "</style>\n",
       "<table border=\"1\" class=\"dataframe\">\n",
       "  <thead>\n",
       "    <tr style=\"text-align: right;\">\n",
       "      <th></th>\n",
       "      <th>entity_type</th>\n",
       "      <th>bundle</th>\n",
       "      <th>deleted</th>\n",
       "      <th>entity_id</th>\n",
       "      <th>revision_id</th>\n",
       "      <th>language</th>\n",
       "      <th>delta</th>\n",
       "      <th>field_user_country_iso2</th>\n",
       "    </tr>\n",
       "  </thead>\n",
       "  <tbody>\n",
       "    <tr>\n",
       "      <th>0</th>\n",
       "      <td>user</td>\n",
       "      <td>user</td>\n",
       "      <td>0</td>\n",
       "      <td>1</td>\n",
       "      <td>1</td>\n",
       "      <td>und</td>\n",
       "      <td>0</td>\n",
       "      <td>US</td>\n",
       "    </tr>\n",
       "    <tr>\n",
       "      <th>1</th>\n",
       "      <td>user</td>\n",
       "      <td>user</td>\n",
       "      <td>0</td>\n",
       "      <td>10437</td>\n",
       "      <td>10437</td>\n",
       "      <td>und</td>\n",
       "      <td>0</td>\n",
       "      <td>GB</td>\n",
       "    </tr>\n",
       "    <tr>\n",
       "      <th>2</th>\n",
       "      <td>user</td>\n",
       "      <td>user</td>\n",
       "      <td>0</td>\n",
       "      <td>10438</td>\n",
       "      <td>10438</td>\n",
       "      <td>und</td>\n",
       "      <td>0</td>\n",
       "      <td>AU</td>\n",
       "    </tr>\n",
       "    <tr>\n",
       "      <th>3</th>\n",
       "      <td>user</td>\n",
       "      <td>user</td>\n",
       "      <td>0</td>\n",
       "      <td>10439</td>\n",
       "      <td>10439</td>\n",
       "      <td>und</td>\n",
       "      <td>0</td>\n",
       "      <td>GB</td>\n",
       "    </tr>\n",
       "    <tr>\n",
       "      <th>4</th>\n",
       "      <td>user</td>\n",
       "      <td>user</td>\n",
       "      <td>0</td>\n",
       "      <td>10440</td>\n",
       "      <td>10440</td>\n",
       "      <td>und</td>\n",
       "      <td>0</td>\n",
       "      <td>US</td>\n",
       "    </tr>\n",
       "  </tbody>\n",
       "</table>\n",
       "</div>"
      ],
      "text/plain": [
       "  entity_type bundle  deleted  entity_id  revision_id language  delta  \\\n",
       "0        user   user        0          1            1      und      0   \n",
       "1        user   user        0      10437        10437      und      0   \n",
       "2        user   user        0      10438        10438      und      0   \n",
       "3        user   user        0      10439        10439      und      0   \n",
       "4        user   user        0      10440        10440      und      0   \n",
       "\n",
       "  field_user_country_iso2  \n",
       "0                      US  \n",
       "1                      GB  \n",
       "2                      AU  \n",
       "3                      GB  \n",
       "4                      US  "
      ]
     },
     "execution_count": 30,
     "metadata": {},
     "output_type": "execute_result"
    }
   ],
   "source": [
    "load_table('field_revision_field_user_country').head()"
   ]
  },
  {
   "cell_type": "markdown",
   "metadata": {},
   "source": [
    "# Looking into how connected countries are by their users."
   ]
  },
  {
   "cell_type": "code",
   "execution_count": 31,
   "metadata": {
    "collapsed": true
   },
   "outputs": [],
   "source": [
    "df = load_table('field_revision_field_user_country')"
   ]
  },
  {
   "cell_type": "code",
   "execution_count": 32,
   "metadata": {},
   "outputs": [
    {
     "data": {
      "text/plain": [
       "178"
      ]
     },
     "execution_count": 32,
     "metadata": {},
     "output_type": "execute_result"
    }
   ],
   "source": [
    "df.field_user_country_iso2.nunique()"
   ]
  },
  {
   "cell_type": "code",
   "execution_count": 38,
   "metadata": {
    "collapsed": true
   },
   "outputs": [],
   "source": [
    "def get_users_in_counntries(df):\n",
    "    ans = df.groupby('field_user_country_iso2').apply(lambda x: set(x['entity_id'].values))\n",
    "    return ans"
   ]
  },
  {
   "cell_type": "code",
   "execution_count": 41,
   "metadata": {},
   "outputs": [
    {
     "data": {
      "text/plain": [
       "field_user_country_iso2\n",
       "AD                                {36585, 12341, 12342}\n",
       "AE    {13568, 43011, 25348, 23431, 13576, 37006, 370...\n",
       "AF                                              {25914}\n",
       "AI                                              {33979}\n",
       "AL    {26636, 38924, 38927, 26645, 38935, 38944, 266...\n",
       "dtype: object"
      ]
     },
     "execution_count": 41,
     "metadata": {},
     "output_type": "execute_result"
    }
   ],
   "source": [
    "get_users_in_counntries(df).head()"
   ]
  },
  {
   "cell_type": "code",
   "execution_count": 45,
   "metadata": {
    "collapsed": true
   },
   "outputs": [],
   "source": [
    "countries = get_users_in_counntries(df)"
   ]
  },
  {
   "cell_type": "code",
   "execution_count": 43,
   "metadata": {
    "collapsed": true
   },
   "outputs": [],
   "source": [
    "flagging_table = load_table('flagging')\n",
    "user_flags = flagging_table[flagging_table['fid'] == 1]"
   ]
  },
  {
   "cell_type": "code",
   "execution_count": 44,
   "metadata": {},
   "outputs": [
    {
     "data": {
      "text/html": [
       "<div>\n",
       "<style>\n",
       "    .dataframe thead tr:only-child th {\n",
       "        text-align: right;\n",
       "    }\n",
       "\n",
       "    .dataframe thead th {\n",
       "        text-align: left;\n",
       "    }\n",
       "\n",
       "    .dataframe tbody tr th {\n",
       "        vertical-align: top;\n",
       "    }\n",
       "</style>\n",
       "<table border=\"1\" class=\"dataframe\">\n",
       "  <thead>\n",
       "    <tr style=\"text-align: right;\">\n",
       "      <th></th>\n",
       "      <th>flagging_id</th>\n",
       "      <th>fid</th>\n",
       "      <th>entity_type</th>\n",
       "      <th>entity_id</th>\n",
       "      <th>uid</th>\n",
       "      <th>sid</th>\n",
       "      <th>timestamp</th>\n",
       "    </tr>\n",
       "  </thead>\n",
       "  <tbody>\n",
       "    <tr>\n",
       "      <th>0</th>\n",
       "      <td>13422</td>\n",
       "      <td>1</td>\n",
       "      <td>user</td>\n",
       "      <td>10439</td>\n",
       "      <td>10438</td>\n",
       "      <td>0</td>\n",
       "      <td>1419956180</td>\n",
       "    </tr>\n",
       "    <tr>\n",
       "      <th>1</th>\n",
       "      <td>13423</td>\n",
       "      <td>1</td>\n",
       "      <td>user</td>\n",
       "      <td>10437</td>\n",
       "      <td>10438</td>\n",
       "      <td>0</td>\n",
       "      <td>1419956184</td>\n",
       "    </tr>\n",
       "    <tr>\n",
       "      <th>3</th>\n",
       "      <td>13426</td>\n",
       "      <td>1</td>\n",
       "      <td>user</td>\n",
       "      <td>10440</td>\n",
       "      <td>10438</td>\n",
       "      <td>0</td>\n",
       "      <td>1419957896</td>\n",
       "    </tr>\n",
       "    <tr>\n",
       "      <th>6</th>\n",
       "      <td>13431</td>\n",
       "      <td>1</td>\n",
       "      <td>user</td>\n",
       "      <td>10438</td>\n",
       "      <td>10442</td>\n",
       "      <td>0</td>\n",
       "      <td>1419962339</td>\n",
       "    </tr>\n",
       "    <tr>\n",
       "      <th>7</th>\n",
       "      <td>13432</td>\n",
       "      <td>1</td>\n",
       "      <td>user</td>\n",
       "      <td>10442</td>\n",
       "      <td>10438</td>\n",
       "      <td>0</td>\n",
       "      <td>1419962382</td>\n",
       "    </tr>\n",
       "  </tbody>\n",
       "</table>\n",
       "</div>"
      ],
      "text/plain": [
       "   flagging_id  fid entity_type  entity_id    uid  sid   timestamp\n",
       "0        13422    1        user      10439  10438    0  1419956180\n",
       "1        13423    1        user      10437  10438    0  1419956184\n",
       "3        13426    1        user      10440  10438    0  1419957896\n",
       "6        13431    1        user      10438  10442    0  1419962339\n",
       "7        13432    1        user      10442  10438    0  1419962382"
      ]
     },
     "execution_count": 44,
     "metadata": {},
     "output_type": "execute_result"
    }
   ],
   "source": [
    "user_flags.head()"
   ]
  },
  {
   "cell_type": "code",
   "execution_count": 68,
   "metadata": {},
   "outputs": [],
   "source": [
    "eflagging = flagging_table.copy()"
   ]
  },
  {
   "cell_type": "code",
   "execution_count": 72,
   "metadata": {},
   "outputs": [],
   "source": [
    "for country in countries.keys():\n",
    "    eflagging[country + '_following'] = eflagging['uid'].apply(lambda x:x in countries[country])\n",
    "    eflagging[country + '_beinng_followed'] = eflagging['entity_id'].apply(lambda x:x in countries[country])"
   ]
  },
  {
   "cell_type": "code",
   "execution_count": 83,
   "metadata": {},
   "outputs": [],
   "source": [
    "countries_being_followed_and_following = eflagging.iloc[:,7:]"
   ]
  },
  {
   "cell_type": "code",
   "execution_count": 86,
   "metadata": {},
   "outputs": [],
   "source": [
    "temp = countries_being_followed_and_following.sum()"
   ]
  },
  {
   "cell_type": "code",
   "execution_count": 99,
   "metadata": {},
   "outputs": [],
   "source": [
    "agregate_table = pd.DataFrame({'following':temp.iloc[range(0,356,2)].values,'begin_followed':temp.iloc[range(1,356,2)].values}, \n",
    "             index=[x.split('_')[0] for x in temp.index[::2]])"
   ]
  },
  {
   "cell_type": "code",
   "execution_count": 101,
   "metadata": {},
   "outputs": [
    {
     "data": {
      "text/html": [
       "<div>\n",
       "<style>\n",
       "    .dataframe thead tr:only-child th {\n",
       "        text-align: right;\n",
       "    }\n",
       "\n",
       "    .dataframe thead th {\n",
       "        text-align: left;\n",
       "    }\n",
       "\n",
       "    .dataframe tbody tr th {\n",
       "        vertical-align: top;\n",
       "    }\n",
       "</style>\n",
       "<table border=\"1\" class=\"dataframe\">\n",
       "  <thead>\n",
       "    <tr style=\"text-align: right;\">\n",
       "      <th></th>\n",
       "      <th>begin_followed</th>\n",
       "      <th>following</th>\n",
       "    </tr>\n",
       "  </thead>\n",
       "  <tbody>\n",
       "    <tr>\n",
       "      <th>begin_followed</th>\n",
       "      <td>1.000000</td>\n",
       "      <td>0.997043</td>\n",
       "    </tr>\n",
       "    <tr>\n",
       "      <th>following</th>\n",
       "      <td>0.997043</td>\n",
       "      <td>1.000000</td>\n",
       "    </tr>\n",
       "  </tbody>\n",
       "</table>\n",
       "</div>"
      ],
      "text/plain": [
       "                begin_followed  following\n",
       "begin_followed        1.000000   0.997043\n",
       "following             0.997043   1.000000"
      ]
     },
     "execution_count": 101,
     "metadata": {},
     "output_type": "execute_result"
    }
   ],
   "source": [
    "agregate_table.corr()"
   ]
  },
  {
   "cell_type": "code",
   "execution_count": 164,
   "metadata": {},
   "outputs": [
    {
     "data": {
      "text/html": [
       "<div>\n",
       "<style>\n",
       "    .dataframe thead tr:only-child th {\n",
       "        text-align: right;\n",
       "    }\n",
       "\n",
       "    .dataframe thead th {\n",
       "        text-align: left;\n",
       "    }\n",
       "\n",
       "    .dataframe tbody tr th {\n",
       "        vertical-align: top;\n",
       "    }\n",
       "</style>\n",
       "<table border=\"1\" class=\"dataframe\">\n",
       "  <thead>\n",
       "    <tr style=\"text-align: right;\">\n",
       "      <th></th>\n",
       "      <th>begin_followed</th>\n",
       "      <th>following</th>\n",
       "      <th>ratio</th>\n",
       "      <th>nlog</th>\n",
       "    </tr>\n",
       "  </thead>\n",
       "  <tbody>\n",
       "    <tr>\n",
       "      <th>AD</th>\n",
       "      <td>14</td>\n",
       "      <td>14</td>\n",
       "      <td>1.000000</td>\n",
       "      <td>-3.332205</td>\n",
       "    </tr>\n",
       "    <tr>\n",
       "      <th>AE</th>\n",
       "      <td>353</td>\n",
       "      <td>564</td>\n",
       "      <td>0.625887</td>\n",
       "      <td>-6.821107</td>\n",
       "    </tr>\n",
       "    <tr>\n",
       "      <th>AF</th>\n",
       "      <td>7</td>\n",
       "      <td>2</td>\n",
       "      <td>3.500000</td>\n",
       "      <td>-2.197225</td>\n",
       "    </tr>\n",
       "    <tr>\n",
       "      <th>AI</th>\n",
       "      <td>1</td>\n",
       "      <td>1</td>\n",
       "      <td>1.000000</td>\n",
       "      <td>-0.693147</td>\n",
       "    </tr>\n",
       "    <tr>\n",
       "      <th>AL</th>\n",
       "      <td>346</td>\n",
       "      <td>884</td>\n",
       "      <td>0.391403</td>\n",
       "      <td>-7.114769</td>\n",
       "    </tr>\n",
       "  </tbody>\n",
       "</table>\n",
       "</div>"
      ],
      "text/plain": [
       "    begin_followed  following     ratio      nlog\n",
       "AD              14         14  1.000000 -3.332205\n",
       "AE             353        564  0.625887 -6.821107\n",
       "AF               7          2  3.500000 -2.197225\n",
       "AI               1          1  1.000000 -0.693147\n",
       "AL             346        884  0.391403 -7.114769"
      ]
     },
     "execution_count": 164,
     "metadata": {},
     "output_type": "execute_result"
    }
   ],
   "source": [
    "import numpy as np\n",
    "agregate_table['ratio'] = agregate_table['begin_followed']/agregate_table['following']\n",
    "agregate_table['nlog'] = (agregate_table['begin_followed'] + agregate_table['following']).apply(lambda x:-np.log(x))\n",
    "agregate_table.head()"
   ]
  },
  {
   "cell_type": "code",
   "execution_count": 167,
   "metadata": {},
   "outputs": [
    {
     "data": {
      "image/png": "[encoded data removed]",
      "text/plain": [
       "<matplotlib.figure.Figure at 0x153acebf60>"
      ]
     },
     "metadata": {},
     "output_type": "display_data"
    }
   ],
   "source": [
    "fig, axes = plt.subplots(ncols=6, nrows=1)\n",
    "temp = agregate_table[['ratio','nlog']].sort_values(by = 'nlog')\n",
    "\n",
    "for i in range(6):\n",
    "    temp.iloc[i*30 :i*30 + 30,:].sort_values(by = 'nlog', ascending = False)\\\n",
    "    .plot(kind='barh', stacked = True, figsize = (20,10), ax = axes[i])\n",
    "fig.suptitle('ratio of inbound followers to outbound followers\\n nlog is negative the log base 10 of the total number of connections into and out of the country')\n",
    "plt.show()"
   ]
  },
  {
   "cell_type": "code",
   "execution_count": null,
   "metadata": {
    "collapsed": true
   },
   "outputs": [],
   "source": []
  }
 ],
 "metadata": {
  "kernelspec": {
   "display_name": "Python 3",
   "language": "python",
   "name": "python3"
  },
  "language_info": {
   "codemirror_mode": {
    "name": "ipython",
    "version": 3
   },
   "file_extension": ".py",
   "mimetype": "text/x-python",
   "name": "python",
   "nbconvert_exporter": "python",
   "pygments_lexer": "ipython3",
   "version": "3.6.2"
  }
 },
 "nbformat": 4,
 "nbformat_minor": 2
}
